{
 "cells": [
  {
   "cell_type": "code",
   "execution_count": 8,
   "metadata": {},
   "outputs": [],
   "source": [
    "from UrbanDataSet import UrbanDataSet"
   ]
  },
  {
   "cell_type": "markdown",
   "metadata": {},
   "source": [
    "## 1 single-image inference"
   ]
  },
  {
   "cell_type": "markdown",
   "metadata": {},
   "source": [
    "### 1.1 one image input"
   ]
  },
  {
   "cell_type": "code",
   "execution_count": 24,
   "metadata": {},
   "outputs": [],
   "source": [
    "data = UrbanDataSet(image = '../docs/data/test1.jpg')"
   ]
  },
  {
   "cell_type": "markdown",
   "metadata": {},
   "source": [
    "To let the model understand the task, we need to specify what information we want to know from the input image and the format it should follow to structure the response. In some cases, giving more contexts such as the definition of terminology/concept and criteria for decision making may enhance the inference ability of model."
   ]
  },
  {
   "cell_type": "code",
   "execution_count": null,
   "metadata": {},
   "outputs": [],
   "source": [
    "system = '''\n",
    "    Given a top view image, you are going to roughly estimate house conditions. Your answer should be based only on your observation. \n",
    "    The format of your response must include question, answer (yes or no), explaination (within 50 words)\n",
    "'''\n",
    "prompt = '''\n",
    "    Is there any damage on the roof?\n",
    "'''\n",
    "res = data.oneImgChat(system=system, prompt=prompt)"
   ]
  },
  {
   "cell_type": "markdown",
   "metadata": {},
   "source": [
    "The default format of schema for the output includes:\n",
    "- question\n",
    "- answer\n",
    "- explanation"
   ]
  },
  {
   "cell_type": "code",
   "execution_count": null,
   "metadata": {},
   "outputs": [
    {
     "data": {
      "text/plain": [
       "['Is there any damage on the roof?',\n",
       " 'no',\n",
       " 'The roof appears to be intact, with no visible signs of damage or missing shingles.']"
      ]
     },
     "execution_count": 29,
     "metadata": {},
     "output_type": "execute_result"
    }
   ],
   "source": [
    "[res.question,\n",
    "res.answer,\n",
    "res.explanation]"
   ]
  },
  {
   "cell_type": "markdown",
   "metadata": {},
   "source": [
    "### 1.2 customize the format for output"
   ]
  },
  {
   "cell_type": "markdown",
   "metadata": {},
   "source": [
    "For different research purposes, you can customize the format of responses from the model"
   ]
  },
  {
   "cell_type": "code",
   "execution_count": 1,
   "metadata": {},
   "outputs": [],
   "source": [
    "from format_creation import create_format"
   ]
  },
  {
   "cell_type": "markdown",
   "metadata": {},
   "source": [
    "Customized response format can be "
   ]
  },
  {
   "cell_type": "code",
   "execution_count": 2,
   "metadata": {},
   "outputs": [],
   "source": [
    "schema = {\n",
    "    \"question\": (str, ...),\n",
    "    \"answer\": (str, ...),\n",
    "    \"confidence\": (float, ...),\n",
    "}\n",
    "CustomResponse = create_format(schema)"
   ]
  },
  {
   "cell_type": "code",
   "execution_count": null,
   "metadata": {},
   "outputs": [],
   "source": [
    "data = UrbanDataSet(image = '../docs/data/test1.jpg', format=CustomResponse)\n",
    "system = '''\n",
    "    Given a top view image, you are going to roughly estimate house conditions. Your answer should be based only on your observation. \n",
    "    The format of your response must include question, answer (yes or no), confidence (0-1)\n",
    "'''\n",
    "prompt = '''\n",
    "    Is there any damage on the roof?\n",
    "'''\n",
    "res = data.oneImgChat(system=system, prompt=prompt)"
   ]
  },
  {
   "cell_type": "code",
   "execution_count": 12,
   "metadata": {},
   "outputs": [
    {
     "data": {
      "text/plain": [
       "[QnA(question='Is there any damage on the roof?', answer='no', confidence=0.8),\n",
       " 'Is there any damage on the roof?',\n",
       " 'no',\n",
       " 0.8]"
      ]
     },
     "execution_count": 12,
     "metadata": {},
     "output_type": "execute_result"
    }
   ],
   "source": [
    "[res, \n",
    "res.question,\n",
    "res.answer,\n",
    "res.confidence]"
   ]
  },
  {
   "cell_type": "markdown",
   "metadata": {},
   "source": [
    "## 2 multiple images inference"
   ]
  },
  {
   "cell_type": "markdown",
   "metadata": {},
   "source": [
    "### 2.1 images input"
   ]
  },
  {
   "cell_type": "code",
   "execution_count": 2,
   "metadata": {},
   "outputs": [],
   "source": [
    "imgs = ['../docs/data/test1.jpg', '../docs/data/test2.jpg', '../docs/data/test3.jpg',]\n",
    "data = UrbanDataSet(images = imgs)"
   ]
  },
  {
   "cell_type": "code",
   "execution_count": 3,
   "metadata": {},
   "outputs": [],
   "source": [
    "system = '''\n",
    "    Given a top view image, you are going to roughly estimate house conditions. Your answer should be based only on your observation. \n",
    "    The format of your response must include question, answer (yes or no), explaination (within 50 words)\n",
    "'''\n",
    "prompt = '''\n",
    "    Is there any damage on the roof?\n",
    "'''\n",
    "res = data.loopImgChat(system=system, prompt=prompt)"
   ]
  },
  {
   "cell_type": "code",
   "execution_count": 4,
   "metadata": {},
   "outputs": [
    {
     "data": {
      "text/plain": [
       "[QnA(question='Is there any damage on the roof?', answer='no', explanation='The roof appears to be intact, with no visible signs of damage or missing shingles.'),\n",
       " QnA(question='Is there any damage on the roof?', answer='no', explanation='The roof appears to be intact, with no visible signs of damage or missing shingles.'),\n",
       " QnA(question='Is there any damage on the roof?', answer='no', explanation='The roof appears to be intact, with no visible signs of damage or missing shingles.')]"
      ]
     },
     "execution_count": 4,
     "metadata": {},
     "output_type": "execute_result"
    }
   ],
   "source": [
    "res"
   ]
  },
  {
   "cell_type": "code",
   "execution_count": 5,
   "metadata": {},
   "outputs": [
    {
     "data": {
      "text/plain": [
       "('Is there any damage on the roof?',\n",
       " 'no',\n",
       " 'The roof appears to be intact, with no visible signs of damage or missing shingles.')"
      ]
     },
     "execution_count": 5,
     "metadata": {},
     "output_type": "execute_result"
    }
   ],
   "source": [
    "res[0].question, res[0].answer, res[0].explanation"
   ]
  },
  {
   "cell_type": "markdown",
   "metadata": {},
   "source": [
    "### 2.2 shapfile input"
   ]
  },
  {
   "cell_type": "code",
   "execution_count": null,
   "metadata": {},
   "outputs": [],
   "source": []
  },
  {
   "cell_type": "markdown",
   "metadata": {},
   "source": [
    "### 2.3 shapfile input sourced from OSM api"
   ]
  },
  {
   "cell_type": "code",
   "execution_count": 1,
   "metadata": {},
   "outputs": [],
   "source": [
    "from utils import getOSMbuildings"
   ]
  },
  {
   "cell_type": "code",
   "execution_count": null,
   "metadata": {},
   "outputs": [],
   "source": [
    "bbox = [-83.145345,42.355391,-83.144068,42.356889]\n",
    "# bbox = [-96.323712,30.618338,-96.330826, 30.591028]\n",
    "b = getOSMbuildings(bbox)"
   ]
  },
  {
   "cell_type": "code",
   "execution_count": 5,
   "metadata": {},
   "outputs": [
    {
     "data": {
      "text/plain": [
       "{'version': 0.6,\n",
       " 'generator': 'Overpass API 0.7.62.5 1bd436f1',\n",
       " 'osm3s': {'timestamp_osm_base': '2025-03-11T16:25:15Z',\n",
       "  'copyright': 'The data included in this document is from www.openstreetmap.org. The data is made available under ODbL.'},\n",
       " 'elements': []}"
      ]
     },
     "execution_count": 5,
     "metadata": {},
     "output_type": "execute_result"
    }
   ],
   "source": [
    "b"
   ]
  }
 ],
 "metadata": {
  "kernelspec": {
   "display_name": "llmApp",
   "language": "python",
   "name": "python3"
  },
  "language_info": {
   "codemirror_mode": {
    "name": "ipython",
    "version": 3
   },
   "file_extension": ".py",
   "mimetype": "text/x-python",
   "name": "python",
   "nbconvert_exporter": "python",
   "pygments_lexer": "ipython3",
   "version": "3.10.16"
  }
 },
 "nbformat": 4,
 "nbformat_minor": 2
}
