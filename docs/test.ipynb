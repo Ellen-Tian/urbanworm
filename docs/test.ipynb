{
 "cells": [
  {
   "cell_type": "code",
   "execution_count": 100,
   "metadata": {},
   "outputs": [
    {
     "data": {
      "text/plain": [
       "ProgressResponse(status='success', completed=None, total=None, digest=None)"
      ]
     },
     "execution_count": 100,
     "metadata": {},
     "output_type": "execute_result"
    }
   ],
   "source": [
    "from ollama import generate, chat, pull\n",
    "from pydantic import BaseModel\n",
    "from typing import List\n",
    "\n",
    "pull('gemma3:12b')"
   ]
  },
  {
   "cell_type": "code",
   "execution_count": 68,
   "metadata": {},
   "outputs": [],
   "source": [
    "class QnA(BaseModel):\n",
    "    question: str\n",
    "    answer: bool\n",
    "    explanation: str\n",
    "\n",
    "class Response(BaseModel):\n",
    "    responses: List[QnA] = []"
   ]
  },
  {
   "cell_type": "code",
   "execution_count": 101,
   "metadata": {},
   "outputs": [],
   "source": [
    "\n",
    "response = generate(\n",
    "    system='''\n",
    "    Given a top view image or street view images, you are going to roughly estimate house conditions. \n",
    "    Your answer should be based only on your observation. \n",
    "    The format of your response must include question, answer (yes, no, maybe), explanation (within 50 words) for each question.\n",
    "    ''',\n",
    "    prompt='Is there any damage on the roof?',\n",
    "    model='gemma3:12b',\n",
    "    images=['docs/data/test1.jpg'],\n",
    "    format=Response.model_json_schema(),\n",
    "    options={\n",
    "                \"temperature\":0,\n",
    "                \"top_k\":0.8,\n",
    "                \"top_p\":0.8\n",
    "            }\n",
    ")\n",
    "\n",
    "# Parse response content into the Pydantic model\n",
    "# res = Response.model_validate_json(response.message.content)  # Note: use ['response'] for generate()\n",
    "# res\n"
   ]
  },
  {
   "cell_type": "code",
   "execution_count": 63,
   "metadata": {},
   "outputs": [
    {
     "data": {
      "text/plain": [
       "\"\\nBased on the image provided, it is not possible to conclusively determine if there is any damage on the roof due to the lack of detail and resolution. The image does not allow for a clear view of the roof's condition, which would be necessary to provide an accurate assessment. A closer inspection or additional images from different angles would be required to accurately answer this question.\""
      ]
     },
     "execution_count": 63,
     "metadata": {},
     "output_type": "execute_result"
    }
   ],
   "source": [
    "response.response"
   ]
  },
  {
   "cell_type": "code",
   "execution_count": 30,
   "metadata": {},
   "outputs": [],
   "source": [
    "res = Response.model_validate_json(response.response)"
   ]
  },
  {
   "cell_type": "code",
   "execution_count": 50,
   "metadata": {},
   "outputs": [
    {
     "data": {
      "text/plain": [
       "Response(responses=[QnA(question='Is there any damage on the roof?', answer='no', explanation='The roof appears to be intact, with no visible signs of damage or wear. The shingles are evenly spaced and securely fastened.')])"
      ]
     },
     "execution_count": 50,
     "metadata": {},
     "output_type": "execute_result"
    }
   ],
   "source": [
    "res"
   ]
  },
  {
   "cell_type": "code",
   "execution_count": 104,
   "metadata": {},
   "outputs": [],
   "source": [
    "system='''\n",
    "    Given a top view image or street view images, you are going to roughly estimate house conditions. \n",
    "    Your answer should be based only on your observation. \n",
    "    The format of your response must include question, answer (yes=true, no=false), explanation (within 50 words) for each question.\n",
    "    '''\n",
    "prompt='Is there any physical damage on the roof?'\n",
    "response = chat(\n",
    "    \n",
    "    model='gemma3:12b',\n",
    "    messages=[\n",
    "                {\n",
    "                    'role': 'system',\n",
    "                    'content': system\n",
    "                },\n",
    "                {\n",
    "                    'role': 'user',\n",
    "                    'content': prompt,\n",
    "                    'images': ['docs/data/test3.jpg']\n",
    "                }\n",
    "            ],\n",
    "    format=Response.model_json_schema(),\n",
    "    options={\n",
    "                \"temperature\":0,\n",
    "                \"top_k\":0.8,\n",
    "                \"top_p\":0.8\n",
    "            }\n",
    ")\n",
    "\n",
    "res2 = Response.model_validate_json(response.message.content)"
   ]
  },
  {
   "cell_type": "code",
   "execution_count": 105,
   "metadata": {},
   "outputs": [
    {
     "data": {
      "text/plain": [
       "Response(responses=[QnA(question='Is there any physical damage on the roof?', answer=False, explanation='Based on the image, the roof appears to be intact and without any visible signs of damage like missing shingles or structural issues. It looks generally well-maintained.')])"
      ]
     },
     "execution_count": 105,
     "metadata": {},
     "output_type": "execute_result"
    }
   ],
   "source": [
    "res2"
   ]
  },
  {
   "cell_type": "code",
   "execution_count": 107,
   "metadata": {},
   "outputs": [],
   "source": [
    "import urbanworm"
   ]
  },
  {
   "cell_type": "code",
   "execution_count": 108,
   "metadata": {},
   "outputs": [],
   "source": [
    "from urbanworm import UrbanDataSet"
   ]
  },
  {
   "cell_type": "code",
   "execution_count": 109,
   "metadata": {},
   "outputs": [
    {
     "data": {
      "text/plain": [
       "'5 buildings found in the bounding box.'"
      ]
     },
     "execution_count": 109,
     "metadata": {},
     "output_type": "execute_result"
    }
   ],
   "source": [
    "bbox = (-83.235572,42.348092,-83.235154,42.348806)\n",
    "data = UrbanDataSet()\n",
    "data.bbox2Buildings(bbox)"
   ]
  },
  {
   "cell_type": "code",
   "execution_count": 110,
   "metadata": {},
   "outputs": [
    {
     "name": "stderr",
     "output_type": "stream",
     "text": [
      "python(61872) MallocStackLogging: can't turn off malloc stack logging because it was not enabled.\n",
      "Processing...: 100%|█████████████████████████| 5/5 [01:40<00:00, 20.12s/it]\n"
     ]
    }
   ],
   "source": [
    "system = '''\n",
    "    Given a top view image, you are going to roughly estimate house conditions. Your answer should be based only on your observation. \n",
    "    The format of your response must include question, answer (yes=1 or no=0), explaination (within 50 words)\n",
    "'''\n",
    "prompt = {\n",
    "    'top':'''\n",
    "        Is there any damage on the roof?\n",
    "    '''\n",
    "}\n",
    "\n",
    "# inspect the aerial images only (with type='top')\n",
    "res = data.loopUnitChat(system=system, prompt=prompt, type='top', epsg=2253, model='gemma3:12b')"
   ]
  },
  {
   "cell_type": "code",
   "execution_count": 111,
   "metadata": {},
   "outputs": [
    {
     "data": {
      "text/plain": [
       "{'lon': [-83.23528425002904,\n",
       "  -83.23527843983697,\n",
       "  -83.23527392220824,\n",
       "  -83.235269271178,\n",
       "  -83.23526440263088],\n",
       " 'lat': [42.34874838775614,\n",
       "  42.34859720064423,\n",
       "  42.34845229151653,\n",
       "  42.34830635645473,\n",
       "  42.34816433680549],\n",
       " 'top_view': [[QnA(question='Is there any damage on the roof?', answer='0', explanation=\"The roof appears intact and doesn't show any obvious signs of damage like missing shingles or structural issues. The image quality is limited, but no immediate concerns are visible.\")],\n",
       "  [QnA(question='Is there any damage on the roof?', answer='0', explanation='The roof appears relatively intact from this top-down view. There are no obvious signs of missing shingles, holes, or other structural damage visible.')],\n",
       "  [QnA(question='Is there any damage on the roof?', answer='0', explanation=\"Based on the image, the roof appears intact and doesn't show any obvious signs of damage like missing shingles or structural issues. The resolution is limited, but no immediate concerns are visible.\")],\n",
       "  [QnA(question='Is there any damage on the roof?', answer='0', explanation='The roof appears to be flat and uniform. There are no visible signs of structural damage, such as collapsed sections or missing materials, based on this top-down view.')],\n",
       "  [QnA(question='Is there any damage on the roof?', answer='0', explanation='The roof appears intact and uniform. There are no visible signs of damage like missing tiles, cracks, or sagging.')]]}"
      ]
     },
     "execution_count": 111,
     "metadata": {},
     "output_type": "execute_result"
    }
   ],
   "source": [
    "res"
   ]
  },
  {
   "cell_type": "code",
   "execution_count": 112,
   "metadata": {},
   "outputs": [],
   "source": [
    "df = data.to_gdf()"
   ]
  },
  {
   "cell_type": "code",
   "execution_count": 113,
   "metadata": {},
   "outputs": [
    {
     "data": {
      "text/html": [
       "<div>\n",
       "<style scoped>\n",
       "    .dataframe tbody tr th:only-of-type {\n",
       "        vertical-align: middle;\n",
       "    }\n",
       "\n",
       "    .dataframe tbody tr th {\n",
       "        vertical-align: top;\n",
       "    }\n",
       "\n",
       "    .dataframe thead th {\n",
       "        text-align: right;\n",
       "    }\n",
       "</style>\n",
       "<table border=\"1\" class=\"dataframe\">\n",
       "  <thead>\n",
       "    <tr style=\"text-align: right;\">\n",
       "      <th></th>\n",
       "      <th>geometry</th>\n",
       "      <th>top_view_question1</th>\n",
       "      <th>top_view_answer1</th>\n",
       "      <th>top_view_explanation1</th>\n",
       "      <th>top_view_base64</th>\n",
       "    </tr>\n",
       "  </thead>\n",
       "  <tbody>\n",
       "    <tr>\n",
       "      <th>0</th>\n",
       "      <td>POINT (-83.23528 42.34875)</td>\n",
       "      <td>Is there any damage on the roof?</td>\n",
       "      <td>0</td>\n",
       "      <td>The roof appears intact and doesn't show any o...</td>\n",
       "      <td>/9j/4AAQSkZJRgABAQAAAQABAAD/2wBDAAgGBgcGBQgHBw...</td>\n",
       "    </tr>\n",
       "    <tr>\n",
       "      <th>1</th>\n",
       "      <td>POINT (-83.23528 42.3486)</td>\n",
       "      <td>Is there any damage on the roof?</td>\n",
       "      <td>0</td>\n",
       "      <td>The roof appears relatively intact from this t...</td>\n",
       "      <td>/9j/4AAQSkZJRgABAQAAAQABAAD/2wBDAAgGBgcGBQgHBw...</td>\n",
       "    </tr>\n",
       "    <tr>\n",
       "      <th>2</th>\n",
       "      <td>POINT (-83.23527 42.34845)</td>\n",
       "      <td>Is there any damage on the roof?</td>\n",
       "      <td>0</td>\n",
       "      <td>Based on the image, the roof appears intact an...</td>\n",
       "      <td>/9j/4AAQSkZJRgABAQAAAQABAAD/2wBDAAgGBgcGBQgHBw...</td>\n",
       "    </tr>\n",
       "    <tr>\n",
       "      <th>3</th>\n",
       "      <td>POINT (-83.23527 42.34831)</td>\n",
       "      <td>Is there any damage on the roof?</td>\n",
       "      <td>0</td>\n",
       "      <td>The roof appears to be flat and uniform. There...</td>\n",
       "      <td>/9j/4AAQSkZJRgABAQAAAQABAAD/2wBDAAgGBgcGBQgHBw...</td>\n",
       "    </tr>\n",
       "    <tr>\n",
       "      <th>4</th>\n",
       "      <td>POINT (-83.23526 42.34816)</td>\n",
       "      <td>Is there any damage on the roof?</td>\n",
       "      <td>0</td>\n",
       "      <td>The roof appears intact and uniform. There are...</td>\n",
       "      <td>/9j/4AAQSkZJRgABAQAAAQABAAD/2wBDAAgGBgcGBQgHBw...</td>\n",
       "    </tr>\n",
       "  </tbody>\n",
       "</table>\n",
       "</div>"
      ],
      "text/plain": [
       "                     geometry                top_view_question1  \\\n",
       "0  POINT (-83.23528 42.34875)  Is there any damage on the roof?   \n",
       "1   POINT (-83.23528 42.3486)  Is there any damage on the roof?   \n",
       "2  POINT (-83.23527 42.34845)  Is there any damage on the roof?   \n",
       "3  POINT (-83.23527 42.34831)  Is there any damage on the roof?   \n",
       "4  POINT (-83.23526 42.34816)  Is there any damage on the roof?   \n",
       "\n",
       "  top_view_answer1                              top_view_explanation1  \\\n",
       "0                0  The roof appears intact and doesn't show any o...   \n",
       "1                0  The roof appears relatively intact from this t...   \n",
       "2                0  Based on the image, the roof appears intact an...   \n",
       "3                0  The roof appears to be flat and uniform. There...   \n",
       "4                0  The roof appears intact and uniform. There are...   \n",
       "\n",
       "                                     top_view_base64  \n",
       "0  /9j/4AAQSkZJRgABAQAAAQABAAD/2wBDAAgGBgcGBQgHBw...  \n",
       "1  /9j/4AAQSkZJRgABAQAAAQABAAD/2wBDAAgGBgcGBQgHBw...  \n",
       "2  /9j/4AAQSkZJRgABAQAAAQABAAD/2wBDAAgGBgcGBQgHBw...  \n",
       "3  /9j/4AAQSkZJRgABAQAAAQABAAD/2wBDAAgGBgcGBQgHBw...  \n",
       "4  /9j/4AAQSkZJRgABAQAAAQABAAD/2wBDAAgGBgcGBQgHBw...  "
      ]
     },
     "execution_count": 113,
     "metadata": {},
     "output_type": "execute_result"
    }
   ],
   "source": [
    "df"
   ]
  },
  {
   "cell_type": "code",
   "execution_count": null,
   "metadata": {},
   "outputs": [],
   "source": [
    "def chatpd(df, prompt, output_type='string', model='gemma3:12b'):\n",
    "    from pandasai import PandasAI\n",
    "    from pandasai.llm.base import LLM\n",
    "    import requests\n",
    "\n",
    "    UrbanDataSet.preload_model(model)\n",
    "    class OllamaLLM(LLM):\n",
    "        def __init__(self, model=model, host='http://localhost:11434'):\n",
    "            self.model = model\n",
    "            self.host = host\n",
    "\n",
    "        def call(self, prompt: str, *args, **kwargs) -> str:\n",
    "            prompt = str(prompt)  # ensure it's a string\n",
    "\n",
    "            messages = [\n",
    "                {\"role\": \"system\", \"content\": \"You are a helpful data science assistant.\"},\n",
    "                {\"role\": \"user\", \"content\": prompt}\n",
    "            ]\n",
    "\n",
    "            response = requests.post(\n",
    "                f\"{self.host}/api/chat\",\n",
    "                json={\n",
    "                    \"model\": self.model,\n",
    "                    \"messages\": messages,\n",
    "                    \"stream\": False\n",
    "                }\n",
    "            )\n",
    "            response.raise_for_status()\n",
    "            return response.json()[\"message\"][\"content\"]\n",
    "\n",
    "        @property\n",
    "        def type(self) -> str:\n",
    "            return \"ollama\"\n",
    "    llm = OllamaLLM(model=model)\n",
    "    pandas_ai = PandasAI(llm)\n",
    "    df.chat = lambda q: pandas_ai.run(df, q)\n",
    "    df = SmartDataframe(df, config={\"llm\": llm})\n",
    "    return df.chat(prompt, output_type)"
   ]
  },
  {
   "cell_type": "code",
   "execution_count": 137,
   "metadata": {},
   "outputs": [
    {
     "name": "stderr",
     "output_type": "stream",
     "text": [
      "/var/folders/fb/4kj6xrcs195bxml3gxcrrkq80000gn/T/ipykernel_78148/4126974325.py:33: DeprecationWarning: \n",
      "********************************************************************************\n",
      "\u001b[1;33mDEPRECATION WARNING:\u001b[0m\n",
      "SmartDataframe will soon be deprecated. Please use df.chat() instead.\n",
      "********************************************************************************\n",
      "\n",
      "  df = SmartDataframe(df, config={\"llm\": llm})\n",
      "/opt/homebrew/anaconda3/envs/llmApp/lib/python3.10/site-packages/jinja2/runtime.py:303: FutureWarning: DataFrame.applymap has been deprecated. Use DataFrame.map instead.\n",
      "  return __obj(*args, **kwargs)\n",
      "/opt/homebrew/anaconda3/envs/llmApp/lib/python3.10/site-packages/jinja2/runtime.py:303: FutureWarning: DataFrame.applymap has been deprecated. Use DataFrame.map instead.\n",
      "  return __obj(*args, **kwargs)\n",
      "/opt/homebrew/anaconda3/envs/llmApp/lib/python3.10/site-packages/jinja2/runtime.py:303: FutureWarning: DataFrame.applymap has been deprecated. Use DataFrame.map instead.\n",
      "  return __obj(*args, **kwargs)\n",
      "/opt/homebrew/anaconda3/envs/llmApp/lib/python3.10/site-packages/jinja2/runtime.py:303: FutureWarning: DataFrame.applymap has been deprecated. Use DataFrame.map instead.\n",
      "  return __obj(*args, **kwargs)\n"
     ]
    },
    {
     "data": {
      "text/plain": [
       "ErrorResponse(type='error', value='Unfortunately, I was not able to get your answer. Please try again.')"
      ]
     },
     "execution_count": 137,
     "metadata": {},
     "output_type": "execute_result"
    }
   ],
   "source": [
    "chatpd(df, 'please summarize the data')"
   ]
  }
 ],
 "metadata": {
  "kernelspec": {
   "display_name": "llmApp",
   "language": "python",
   "name": "python3"
  },
  "language_info": {
   "codemirror_mode": {
    "name": "ipython",
    "version": 3
   },
   "file_extension": ".py",
   "mimetype": "text/x-python",
   "name": "python",
   "nbconvert_exporter": "python",
   "pygments_lexer": "ipython3",
   "version": "3.10.16"
  }
 },
 "nbformat": 4,
 "nbformat_minor": 2
}
