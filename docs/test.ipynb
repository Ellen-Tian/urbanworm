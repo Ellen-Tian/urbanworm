{
 "cells": [
  {
   "cell_type": "code",
   "execution_count": 100,
   "metadata": {},
   "outputs": [
    {
     "data": {
      "text/plain": [
       "ProgressResponse(status='success', completed=None, total=None, digest=None)"
      ]
     },
     "execution_count": 100,
     "metadata": {},
     "output_type": "execute_result"
    }
   ],
   "source": [
    "from ollama import generate, chat, pull\n",
    "from pydantic import BaseModel\n",
    "from typing import List\n",
    "\n",
    "pull('gemma3:12b')"
   ]
  },
  {
   "cell_type": "code",
   "execution_count": 68,
   "metadata": {},
   "outputs": [],
   "source": [
    "class QnA(BaseModel):\n",
    "    question: str\n",
    "    answer: bool\n",
    "    explanation: str\n",
    "\n",
    "class Response(BaseModel):\n",
    "    responses: List[QnA] = []"
   ]
  },
  {
   "cell_type": "code",
   "execution_count": 101,
   "metadata": {},
   "outputs": [],
   "source": [
    "\n",
    "response = generate(\n",
    "    system='''\n",
    "    Given a top view image or street view images, you are going to roughly estimate house conditions. \n",
    "    Your answer should be based only on your observation. \n",
    "    The format of your response must include question, answer (yes, no, maybe), explanation (within 50 words) for each question.\n",
    "    ''',\n",
    "    prompt='Is there any damage on the roof?',\n",
    "    model='gemma3:12b',\n",
    "    images=['docs/data/test1.jpg'],\n",
    "    format=Response.model_json_schema(),\n",
    "    options={\n",
    "                \"temperature\":0,\n",
    "                \"top_k\":0.8,\n",
    "                \"top_p\":0.8\n",
    "            }\n",
    ")\n",
    "\n",
    "# Parse response content into the Pydantic model\n",
    "# res = Response.model_validate_json(response.message.content)  # Note: use ['response'] for generate()\n",
    "# res\n"
   ]
  },
  {
   "cell_type": "code",
   "execution_count": 63,
   "metadata": {},
   "outputs": [
    {
     "data": {
      "text/plain": [
       "\"\\nBased on the image provided, it is not possible to conclusively determine if there is any damage on the roof due to the lack of detail and resolution. The image does not allow for a clear view of the roof's condition, which would be necessary to provide an accurate assessment. A closer inspection or additional images from different angles would be required to accurately answer this question.\""
      ]
     },
     "execution_count": 63,
     "metadata": {},
     "output_type": "execute_result"
    }
   ],
   "source": [
    "response.response"
   ]
  },
  {
   "cell_type": "code",
   "execution_count": 30,
   "metadata": {},
   "outputs": [],
   "source": [
    "res = Response.model_validate_json(response.response)"
   ]
  },
  {
   "cell_type": "code",
   "execution_count": 50,
   "metadata": {},
   "outputs": [
    {
     "data": {
      "text/plain": [
       "Response(responses=[QnA(question='Is there any damage on the roof?', answer='no', explanation='The roof appears to be intact, with no visible signs of damage or wear. The shingles are evenly spaced and securely fastened.')])"
      ]
     },
     "execution_count": 50,
     "metadata": {},
     "output_type": "execute_result"
    }
   ],
   "source": [
    "res"
   ]
  },
  {
   "cell_type": "code",
   "execution_count": 104,
   "metadata": {},
   "outputs": [],
   "source": [
    "system='''\n",
    "    Given a top view image or street view images, you are going to roughly estimate house conditions. \n",
    "    Your answer should be based only on your observation. \n",
    "    The format of your response must include question, answer (yes=true, no=false), explanation (within 50 words) for each question.\n",
    "    '''\n",
    "prompt='Is there any physical damage on the roof?'\n",
    "response = chat(\n",
    "    \n",
    "    model='gemma3:12b',\n",
    "    messages=[\n",
    "                {\n",
    "                    'role': 'system',\n",
    "                    'content': system\n",
    "                },\n",
    "                {\n",
    "                    'role': 'user',\n",
    "                    'content': prompt,\n",
    "                    'images': ['docs/data/test3.jpg']\n",
    "                }\n",
    "            ],\n",
    "    format=Response.model_json_schema(),\n",
    "    options={\n",
    "                \"temperature\":0,\n",
    "                \"top_k\":0.8,\n",
    "                \"top_p\":0.8\n",
    "            }\n",
    ")\n",
    "\n",
    "res2 = Response.model_validate_json(response.message.content)"
   ]
  },
  {
   "cell_type": "code",
   "execution_count": 105,
   "metadata": {},
   "outputs": [
    {
     "data": {
      "text/plain": [
       "Response(responses=[QnA(question='Is there any physical damage on the roof?', answer=False, explanation='Based on the image, the roof appears to be intact and without any visible signs of damage like missing shingles or structural issues. It looks generally well-maintained.')])"
      ]
     },
     "execution_count": 105,
     "metadata": {},
     "output_type": "execute_result"
    }
   ],
   "source": [
    "res2"
   ]
  },
  {
   "cell_type": "code",
   "execution_count": 2,
   "metadata": {},
   "outputs": [],
   "source": [
    "import urbanworm"
   ]
  },
  {
   "cell_type": "code",
   "execution_count": 3,
   "metadata": {},
   "outputs": [],
   "source": [
    "from urbanworm import UrbanDataSet"
   ]
  },
  {
   "cell_type": "code",
   "execution_count": 4,
   "metadata": {},
   "outputs": [
    {
     "data": {
      "text/plain": [
       "'5 buildings found in the bounding box.'"
      ]
     },
     "execution_count": 4,
     "metadata": {},
     "output_type": "execute_result"
    }
   ],
   "source": [
    "bbox = (-83.235572,42.348092,-83.235154,42.348806)\n",
    "data = UrbanDataSet()\n",
    "data.bbox2Buildings(bbox)"
   ]
  },
  {
   "cell_type": "code",
   "execution_count": 80,
   "metadata": {},
   "outputs": [
    {
     "name": "stderr",
     "output_type": "stream",
     "text": [
      "Processing...: 100%|█████████████████████████| 5/5 [01:34<00:00, 18.91s/it]\n"
     ]
    }
   ],
   "source": [
    "system = '''\n",
    "    Given a top view image, you are going to roughly estimate house conditions. Your answer should be based only on your observation. \n",
    "    The format of your response must include question, answer (yes=1 or no=0), explaination (within 50 words)\n",
    "'''\n",
    "prompt = {\n",
    "    'top':'''\n",
    "        Is there any damage on the roof?\n",
    "    '''\n",
    "}\n",
    "\n",
    "# inspect the aerial images only (with type='top')\n",
    "res = data.loopUnitChat(system=system, prompt=prompt, type='top', epsg=2253, model='gemma3:12b')"
   ]
  },
  {
   "cell_type": "code",
   "execution_count": 81,
   "metadata": {},
   "outputs": [],
   "source": [
    "import geopandas as gpd\n",
    "df = gpd.GeoDataFrame(data.to_gdf(), geometry=\"geometry\")"
   ]
  },
  {
   "cell_type": "code",
   "execution_count": 82,
   "metadata": {},
   "outputs": [
    {
     "data": {
      "text/plain": [
       "{'type': 'FeatureCollection',\n",
       " 'features': [{'id': '0',\n",
       "   'type': 'Feature',\n",
       "   'properties': {'top_view_question1': 'Is there any damage on the roof?',\n",
       "    'top_view_answer1': '0',\n",
       "    'top_view_explanation1': \"The roof appears intact and doesn't show any obvious signs of damage like missing shingles or structural issues. The image quality is limited, but no immediate concerns are visible.\"},\n",
       "   'geometry': {'type': 'Point',\n",
       "    'coordinates': (-83.23528425002904, 42.34874838775614)}},\n",
       "  {'id': '1',\n",
       "   'type': 'Feature',\n",
       "   'properties': {'top_view_question1': 'Is there any damage on the roof?',\n",
       "    'top_view_answer1': '0',\n",
       "    'top_view_explanation1': 'The roof appears relatively intact from this top-down view. There are no obvious signs of missing shingles, holes, or other structural damage visible.'},\n",
       "   'geometry': {'type': 'Point',\n",
       "    'coordinates': (-83.23527843983697, 42.34859720064423)}},\n",
       "  {'id': '2',\n",
       "   'type': 'Feature',\n",
       "   'properties': {'top_view_question1': 'Is there any damage on the roof?',\n",
       "    'top_view_answer1': '0',\n",
       "    'top_view_explanation1': \"Based on the image, the roof appears intact and doesn't show any obvious signs of damage like missing shingles or structural issues. The resolution is limited, but no immediate concerns are visible.\"},\n",
       "   'geometry': {'type': 'Point',\n",
       "    'coordinates': (-83.23527392220824, 42.34845229151653)}},\n",
       "  {'id': '3',\n",
       "   'type': 'Feature',\n",
       "   'properties': {'top_view_question1': 'Is there any damage on the roof?',\n",
       "    'top_view_answer1': '0',\n",
       "    'top_view_explanation1': 'The roof appears to be flat and uniform. There are no visible signs of structural damage, such as collapsed sections or missing materials, based on this top-down view.'},\n",
       "   'geometry': {'type': 'Point',\n",
       "    'coordinates': (-83.235269271178, 42.34830635645473)}},\n",
       "  {'id': '4',\n",
       "   'type': 'Feature',\n",
       "   'properties': {'top_view_question1': 'Is there any damage on the roof?',\n",
       "    'top_view_answer1': '0',\n",
       "    'top_view_explanation1': 'The roof appears intact and uniform. There are no visible signs of damage like missing tiles, cracks, or sagging.'},\n",
       "   'geometry': {'type': 'Point',\n",
       "    'coordinates': (-83.23526440263088, 42.34816433680549)}}]}"
      ]
     },
     "execution_count": 82,
     "metadata": {},
     "output_type": "execute_result"
    }
   ],
   "source": [
    "df.pop('top_view_base64')\n",
    "df.to_geo_dict()"
   ]
  },
  {
   "cell_type": "code",
   "execution_count": 83,
   "metadata": {},
   "outputs": [
    {
     "data": {
      "text/plain": [
       "'{\"type\": \"FeatureCollection\", \"features\": [{\"id\": \"0\", \"type\": \"Feature\", \"properties\": {\"top_view_question1\": \"Is there any damage on the roof?\", \"top_view_answer1\": \"0\", \"top_view_explanation1\": \"The roof appears intact and doesn\\'t show any obvious signs of damage like missing shingles or structural issues. The image quality is limited, but no immediate concerns are visible.\"}, \"geometry\": {\"type\": \"Point\", \"coordinates\": [-83.23528425002904, 42.34874838775614]}}, {\"id\": \"1\", \"type\": \"Feature\", \"properties\": {\"top_view_question1\": \"Is there any damage on the roof?\", \"top_view_answer1\": \"0\", \"top_view_explanation1\": \"The roof appears relatively intact from this top-down view. There are no obvious signs of missing shingles, holes, or other structural damage visible.\"}, \"geometry\": {\"type\": \"Point\", \"coordinates\": [-83.23527843983697, 42.34859720064423]}}, {\"id\": \"2\", \"type\": \"Feature\", \"properties\": {\"top_view_question1\": \"Is there any damage on the roof?\", \"top_view_answer1\": \"0\", \"top_view_explanation1\": \"Based on the image, the roof appears intact and doesn\\'t show any obvious signs of damage like missing shingles or structural issues. The resolution is limited, but no immediate concerns are visible.\"}, \"geometry\": {\"type\": \"Point\", \"coordinates\": [-83.23527392220824, 42.34845229151653]}}, {\"id\": \"3\", \"type\": \"Feature\", \"properties\": {\"top_view_question1\": \"Is there any damage on the roof?\", \"top_view_answer1\": \"0\", \"top_view_explanation1\": \"The roof appears to be flat and uniform. There are no visible signs of structural damage, such as collapsed sections or missing materials, based on this top-down view.\"}, \"geometry\": {\"type\": \"Point\", \"coordinates\": [-83.235269271178, 42.34830635645473]}}, {\"id\": \"4\", \"type\": \"Feature\", \"properties\": {\"top_view_question1\": \"Is there any damage on the roof?\", \"top_view_answer1\": \"0\", \"top_view_explanation1\": \"The roof appears intact and uniform. There are no visible signs of damage like missing tiles, cracks, or sagging.\"}, \"geometry\": {\"type\": \"Point\", \"coordinates\": [-83.23526440263088, 42.34816433680549]}}]}'"
      ]
     },
     "execution_count": 83,
     "metadata": {},
     "output_type": "execute_result"
    }
   ],
   "source": [
    "import json\n",
    "json.dumps(df.to_geo_dict())"
   ]
  },
  {
   "cell_type": "code",
   "execution_count": null,
   "metadata": {},
   "outputs": [
    {
     "name": "stdout",
     "output_type": "stream",
     "text": [
      "Okay, here's a summary of the data, presented from a spatial data analysis perspective:\n",
      "\n",
      "**Overall Assessment:**\n",
      "\n",
      "This data represents a series of top-down visual inspections of roofs, conducted at four distinct locations.  The consistent finding across all inspections is that **no immediate damage to the roofs is detected** based on these top-down views.\n",
      "\n",
      "**Spatial Analysis Highlights:**\n",
      "\n",
      "* **Consistent Findings:** All four features (representing individual roof inspections) report a negative response to the question: \"Is there any damage on the roof?\"  This suggests a consistent observation across the surveyed locations.\n",
      "* **Geographic Clustering:** The four points are clustered geographically. All are located very close to each other, suggesting they are inspecting properties in a relatively small area.  This is important for understanding the scope of the inspection.\n",
      "* **Point Locations:** The coordinates indicate the precise location of each inspection.  This allows for mapping and potentially overlaying with other spatial data (e.g., property records, building types, or hazard zones).\n",
      "\n",
      "**Data Characteristics & Potential Considerations:**\n",
      "\n",
      "* **Limited View:** The data is based on *top-down* views. This means the inspectors could not assess damage to the underside of the roof, such as water stains, mold, or hidden structural issues.\n",
      "* **Image Quality:** The explanations mention \"limited image quality\" in several cases. This is a critical limitation and should be considered when interpreting the results.\n",
      "* **Type of Inspection:** This is a preliminary visual assessment.  Further investigation (e.g., drone imagery, thermal scans, or physical inspection) would be needed to confirm the absence of damage or to identify any subtle issues.\n",
      "\n",
      "**Recommendations (from a data spatial perspective):**\n",
      "\n",
      "* **Mapping:**  Plot these points on a map to visualize the spatial distribution of the inspections.\n",
      "* **Further Investigation:**  Given the limitations of the top-down view, recommend further investigation, particularly if the properties are of high value or in areas prone to specific hazards.\n",
      "* **Data Enrichment:**  Combine this data with other spatial datasets (e.g., building footprint data, property tax records) to gain a more comprehensive understanding.\n",
      "\n",
      "\n",
      "\n",
      "Do you want me to:\n",
      "\n",
      "*   Generate a simple map visualization of this data?\n",
      "*   Analyze this data in a specific way (e.g., calculate distances between points)?\n",
      "*   Provide a more detailed report based on a particular aspect (e.g., focusing on the limitations of the data)?"
     ]
    }
   ],
   "source": [
    "import ollama\n",
    "response = ollama.chat(\n",
    "    model='gemma3',\n",
    "    messages=[\n",
    "        {\n",
    "            'role': 'system',\n",
    "            'content': 'you are data spatial data analyst'\n",
    "        },\n",
    "        {\n",
    "            'role': 'user',\n",
    "            'content': f'please summarize the data: {json.dumps(df.to_geo_dict())}',\n",
    "        }\n",
    "    ],\n",
    "    options={\n",
    "        \"temperature\":0.3,\n",
    "        \"top_k\":0.8,\n",
    "        \"top_p\":0.8\n",
    "    },\n",
    "    stream=True\n",
    ")\n",
    "for chunk in response:\n",
    "    print(chunk['message']['content'], end='', flush=True)"
   ]
  },
  {
   "cell_type": "code",
   "execution_count": 87,
   "metadata": {},
   "outputs": [],
   "source": [
    "for i in res:\n",
    "    print(i['message']['content'], end='', flush=True)"
   ]
  }
 ],
 "metadata": {
  "kernelspec": {
   "display_name": "llmApp",
   "language": "python",
   "name": "python3"
  },
  "language_info": {
   "codemirror_mode": {
    "name": "ipython",
    "version": 3
   },
   "file_extension": ".py",
   "mimetype": "text/x-python",
   "name": "python",
   "nbconvert_exporter": "python",
   "pygments_lexer": "ipython3",
   "version": "3.10.16"
  }
 },
 "nbformat": 4,
 "nbformat_minor": 2
}
